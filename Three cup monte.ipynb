{
 "cells": [
  {
   "cell_type": "markdown",
   "id": "203eecc5",
   "metadata": {},
   "source": [
    "#The main objective of this file is to show the use of multiple functions working with each other. "
   ]
  },
  {
   "cell_type": "code",
   "execution_count": 13,
   "id": "2b61a094",
   "metadata": {},
   "outputs": [
    {
     "data": {
      "text/plain": [
       "[3, 6, 7, 1, 5, 2, 4]"
      ]
     },
     "execution_count": 13,
     "metadata": {},
     "output_type": "execute_result"
    }
   ],
   "source": [
    "sample = [1,2,3,4,5,6,7]\n",
    "\n",
    "from random import shuffle\n",
    "\n",
    "shuffle(sample)\n",
    "\n",
    "sample"
   ]
  },
  {
   "cell_type": "code",
   "execution_count": 14,
   "id": "8cb27dac",
   "metadata": {},
   "outputs": [
    {
     "data": {
      "text/plain": [
       "[7, 6, 2, 3, 4, 5, 1]"
      ]
     },
     "execution_count": 14,
     "metadata": {},
     "output_type": "execute_result"
    }
   ],
   "source": [
    "def shuffle_list(mylist):\n",
    "    shuffle(mylist)\n",
    "    return mylist\n",
    "\n",
    "result = shuffle_list(sample)\n",
    "result"
   ]
  },
  {
   "cell_type": "code",
   "execution_count": 15,
   "id": "c3e3a2a1",
   "metadata": {},
   "outputs": [
    {
     "data": {
      "text/plain": [
       "[' ', ' ', 'Red_Ball']"
      ]
     },
     "execution_count": 15,
     "metadata": {},
     "output_type": "execute_result"
    }
   ],
   "source": [
    "mylist = [ ' ' , 'Red_Ball', ' ']\n",
    "shuffle_list(mylist)"
   ]
  },
  {
   "cell_type": "code",
   "execution_count": 16,
   "id": "3eab7522",
   "metadata": {},
   "outputs": [],
   "source": [
    "def player_guess():\n",
    "    \n",
    "    guess = ''\n",
    "    \n",
    "    while guess not in ['0','1','2']:\n",
    "        guess = input(\"Pick a number: 0, 1, 2. \")\n",
    "        \n",
    "    return int(guess)    \n",
    "#input always returns a string (python, other languages we specify before),\n",
    "#so we use int in order to return an integer return.   "
   ]
  },
  {
   "cell_type": "code",
   "execution_count": 17,
   "id": "e190143a",
   "metadata": {},
   "outputs": [
    {
     "name": "stdout",
     "output_type": "stream",
     "text": [
      "Pick a number: 0, 1, 2. 5\n",
      "Pick a number: 0, 1, 2. 1\n"
     ]
    },
    {
     "data": {
      "text/plain": [
       "1"
      ]
     },
     "execution_count": 17,
     "metadata": {},
     "output_type": "execute_result"
    }
   ],
   "source": [
    "player_guess()"
   ]
  },
  {
   "cell_type": "code",
   "execution_count": 18,
   "id": "4b1e1c78",
   "metadata": {},
   "outputs": [
    {
     "name": "stdout",
     "output_type": "stream",
     "text": [
      "Pick a number: 0, 1, 2. 2\n"
     ]
    }
   ],
   "source": [
    "my_index = player_guess()"
   ]
  },
  {
   "cell_type": "code",
   "execution_count": 19,
   "id": "64cdcde1",
   "metadata": {},
   "outputs": [
    {
     "data": {
      "text/plain": [
       "2"
      ]
     },
     "execution_count": 19,
     "metadata": {},
     "output_type": "execute_result"
    }
   ],
   "source": [
    "my_index"
   ]
  },
  {
   "cell_type": "code",
   "execution_count": 20,
   "id": "a5202a76",
   "metadata": {},
   "outputs": [],
   "source": [
    "#This function combines the shuffled list to the player`s guess.\n",
    "\n",
    "def check_guess(mylist, guess):\n",
    "    if mylist[guess] == 'Red_Ball':\n",
    "        print(\"You`re correct! \")\n",
    "    else:\n",
    "        print(\"Oops you guessed wrong! Try again later. \")\n",
    "        print(mylist)\n",
    "        "
   ]
  },
  {
   "cell_type": "code",
   "execution_count": 21,
   "id": "21d919e5",
   "metadata": {},
   "outputs": [
    {
     "name": "stdout",
     "output_type": "stream",
     "text": [
      "Pick a number: 0, 1, 2. 8\n",
      "Pick a number: 0, 1, 2. 5\n",
      "Pick a number: 0, 1, 2. 0\n",
      "Oops you guessed wrong! Try again later. \n",
      "[' ', ' ', 'Red_Ball']\n"
     ]
    }
   ],
   "source": [
    "#Using all the above defined functions to execute at once, thus running the entire game. \n",
    "\n",
    "#Setup an initial list\n",
    "mylist = [' ', 'Red_Ball', ' ']\n",
    "\n",
    "#Shuffling the list\n",
    "mixedup_list = shuffle_list(mylist)\n",
    "\n",
    "#user guess\n",
    "guess = player_guess()\n",
    "\n",
    "#check guess\n",
    "check_guess(mixedup_list, guess)     #seperate functions interacting with each other to perform a function. "
   ]
  },
  {
   "cell_type": "code",
   "execution_count": null,
   "id": "4fa5cb3f",
   "metadata": {},
   "outputs": [],
   "source": []
  }
 ],
 "metadata": {
  "kernelspec": {
   "display_name": "Python 3 (ipykernel)",
   "language": "python",
   "name": "python3"
  },
  "language_info": {
   "codemirror_mode": {
    "name": "ipython",
    "version": 3
   },
   "file_extension": ".py",
   "mimetype": "text/x-python",
   "name": "python",
   "nbconvert_exporter": "python",
   "pygments_lexer": "ipython3",
   "version": "3.8.8"
  }
 },
 "nbformat": 4,
 "nbformat_minor": 5
}
